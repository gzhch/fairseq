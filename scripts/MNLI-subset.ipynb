{
 "cells": [
  {
   "cell_type": "code",
   "execution_count": 1,
   "metadata": {},
   "outputs": [],
   "source": [
    "import random"
   ]
  },
  {
   "cell_type": "code",
   "execution_count": 5,
   "metadata": {},
   "outputs": [],
   "source": [
    "data = []\n",
    "with open('/new_home/zhuocheng/blobs/gzhch/data/glue_data/MNLI/train.tsv', 'r', encoding='utf-8') as f:\n",
    "    for l in f:\n",
    "        data.append(l)"
   ]
  },
  {
   "cell_type": "code",
   "execution_count": 8,
   "metadata": {},
   "outputs": [
    {
     "data": {
      "text/plain": [
       "392702"
      ]
     },
     "execution_count": 8,
     "metadata": {},
     "output_type": "execute_result"
    }
   ],
   "source": [
    "head = data[0]\n",
    "data = data[1:]\n",
    "len(data)"
   ]
  },
  {
   "cell_type": "code",
   "execution_count": 9,
   "metadata": {},
   "outputs": [],
   "source": [
    "# 10k\n",
    "data_10k = random.sample(data, 10000)\n",
    "with open('mnli_10k.csv', 'w', encoding='utf-8') as f:\n",
    "    f.write(head)\n",
    "    for i in data_10k:\n",
    "        f.write(i)\n",
    "        \n",
    "# 5k\n",
    "data_5k = random.sample(data, 5000)\n",
    "with open('mnli_5k.csv', 'w', encoding='utf-8') as f:\n",
    "    f.write(head)\n",
    "    for i in data_5k:\n",
    "        f.write(i)\n",
    "        \n",
    "# 3k\n",
    "data_3k = random.sample(data, 3000)\n",
    "with open('mnli_3k.csv', 'w', encoding='utf-8') as f:\n",
    "    f.write(head)\n",
    "    for i in data_3k:\n",
    "        f.write(i)"
   ]
  },
  {
   "cell_type": "code",
   "execution_count": null,
   "metadata": {},
   "outputs": [],
   "source": []
  }
 ],
 "metadata": {
  "kernelspec": {
   "display_name": "Python 3",
   "language": "python",
   "name": "python3"
  },
  "language_info": {
   "codemirror_mode": {
    "name": "ipython",
    "version": 3
   },
   "file_extension": ".py",
   "mimetype": "text/x-python",
   "name": "python",
   "nbconvert_exporter": "python",
   "pygments_lexer": "ipython3",
   "version": "3.6.8"
  }
 },
 "nbformat": 4,
 "nbformat_minor": 2
}
